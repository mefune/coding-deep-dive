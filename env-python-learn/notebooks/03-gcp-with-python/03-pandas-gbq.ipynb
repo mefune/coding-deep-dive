{
 "cells": [
  {
   "cell_type": "markdown",
   "metadata": {},
   "source": [
    "# B\"H"
   ]
  },
  {
   "cell_type": "markdown",
   "metadata": {},
   "source": [
    "---\n",
    "\n",
    "## The **`pandas-gbq`** library\n",
    "\n",
    "- https://pandas-gbq.readthedocs.io/en/latest/reading.html\n",
    "- https://pandas-gbq.readthedocs.io/en/latest/api.html\n",
    "- https://pandas-gbq.readthedocs.io/en/latest/howto/authentication.html\n",
    "\n",
    "---"
   ]
  },
  {
   "cell_type": "code",
   "execution_count": 1,
   "metadata": {},
   "outputs": [],
   "source": [
    "import numpy as np\n",
    "import pandas as pd\n",
    "import pandas_gbq\n",
    "\n",
    "from google.oauth2 import service_account"
   ]
  },
  {
   "cell_type": "markdown",
   "metadata": {},
   "source": [
    "---\n",
    "### Prerequisite Step 1 - configure the settings that should last throughout the session\n",
    "- credentials\n",
    "- project\n",
    "- sql dialect"
   ]
  },
  {
   "cell_type": "code",
   "execution_count": 2,
   "metadata": {},
   "outputs": [],
   "source": [
    "credentials = service_account.Credentials.from_service_account_file(\n",
    "    '/home/laz/app-keys/data-science-course-a1544568093e.json'\n",
    ")"
   ]
  },
  {
   "cell_type": "code",
   "execution_count": 3,
   "metadata": {},
   "outputs": [],
   "source": [
    "pandas_gbq.context.credentials = credentials\n",
    "pandas_gbq.context.project     = 'data-science-course-226116'\n",
    "pandas_gbq.context.dialect     = 'standard'"
   ]
  },
  {
   "cell_type": "markdown",
   "metadata": {},
   "source": [
    "---\n",
    "### Run SQL query and pull the data into a DataFrame"
   ]
  },
  {
   "cell_type": "code",
   "execution_count": 4,
   "metadata": {},
   "outputs": [],
   "source": [
    "configuration = {\n",
    "   'query': {\n",
    "     \"useQueryCache\": False\n",
    "   }\n",
    "}"
   ]
  },
  {
   "cell_type": "code",
   "execution_count": 5,
   "metadata": {},
   "outputs": [],
   "source": [
    "sql = \"\"\"\n",
    "select   *\n",
    "from     sql_lessons.x_stg_mock_salaries\n",
    "\"\"\" "
   ]
  },
  {
   "cell_type": "code",
   "execution_count": 6,
   "metadata": {},
   "outputs": [],
   "source": [
    "df = pandas_gbq.read_gbq(\n",
    "    query         = sql,         \n",
    "    configuration = configuration    \n",
    ")"
   ]
  },
  {
   "cell_type": "code",
   "execution_count": 7,
   "metadata": {},
   "outputs": [
    {
     "data": {
      "text/html": [
       "<div>\n",
       "<style scoped>\n",
       "    .dataframe tbody tr th:only-of-type {\n",
       "        vertical-align: middle;\n",
       "    }\n",
       "\n",
       "    .dataframe tbody tr th {\n",
       "        vertical-align: top;\n",
       "    }\n",
       "\n",
       "    .dataframe thead th {\n",
       "        text-align: right;\n",
       "    }\n",
       "</style>\n",
       "<table border=\"1\" class=\"dataframe\">\n",
       "  <thead>\n",
       "    <tr style=\"text-align: right;\">\n",
       "      <th></th>\n",
       "      <th>name</th>\n",
       "      <th>salary</th>\n",
       "    </tr>\n",
       "  </thead>\n",
       "  <tbody>\n",
       "    <tr>\n",
       "      <th>0</th>\n",
       "      <td>Levi</td>\n",
       "      <td>7437223.77</td>\n",
       "    </tr>\n",
       "    <tr>\n",
       "      <th>1</th>\n",
       "      <td>Shimon</td>\n",
       "      <td>4437623.15</td>\n",
       "    </tr>\n",
       "    <tr>\n",
       "      <th>2</th>\n",
       "      <td>Aryeh</td>\n",
       "      <td>9437623.45</td>\n",
       "    </tr>\n",
       "    <tr>\n",
       "      <th>3</th>\n",
       "      <td>Reuven</td>\n",
       "      <td>6446515.98</td>\n",
       "    </tr>\n",
       "  </tbody>\n",
       "</table>\n",
       "</div>"
      ],
      "text/plain": [
       "     name      salary\n",
       "0    Levi  7437223.77\n",
       "1  Shimon  4437623.15\n",
       "2   Aryeh  9437623.45\n",
       "3  Reuven  6446515.98"
      ]
     },
     "execution_count": 7,
     "metadata": {},
     "output_type": "execute_result"
    }
   ],
   "source": [
    "df.head()"
   ]
  },
  {
   "cell_type": "markdown",
   "metadata": {},
   "source": [
    "---\n",
    "\n",
    "### Create table in BigQuery from a DataFrame\n",
    "\n",
    "**Note:**\n",
    "\n",
    "Writing large DataFrames can result in errors due to size limitations being exceeded. \n",
    "\n",
    "This can be avoided by setting the chunksize argument when calling to_gbq(). \n",
    "\n",
    "```python\n",
    "gbq.to_gbq(df, 'my_dataset.my_table', projectid, chunksize=10000)\n",
    "```"
   ]
  },
  {
   "cell_type": "code",
   "execution_count": 8,
   "metadata": {},
   "outputs": [
    {
     "data": {
      "text/plain": [
       "{'my_string': ['a', 'b', 'c'],\n",
       " 'my_int64': [1, 2, 3],\n",
       " 'my_float64': array([4., 5., 6.]),\n",
       " 'my_bool1': [True, False, True],\n",
       " 'my_bool2': [False, True, False],\n",
       " 'my_dates': DatetimeIndex(['2019-06-01 16:44:52.662516', '2019-06-02 16:44:52.662516',\n",
       "                '2019-06-03 16:44:52.662516'],\n",
       "               dtype='datetime64[ns]', freq='D')}"
      ]
     },
     "execution_count": 8,
     "metadata": {},
     "output_type": "execute_result"
    }
   ],
   "source": [
    "sample_dict  = {\n",
    "    'my_string': list('abc'),\n",
    "    'my_int64': list(range(1, 4)),\n",
    "    'my_float64': np.arange(4.0, 7.0),\n",
    "    'my_bool1': [True, False, True],\n",
    "    'my_bool2': [False, True, False],\n",
    "    'my_dates': pd.date_range('now', periods=3)\n",
    "}\n",
    "\n",
    "sample_dict"
   ]
  },
  {
   "cell_type": "code",
   "execution_count": 9,
   "metadata": {},
   "outputs": [],
   "source": [
    "sample_df = pd.DataFrame(sample_dict)"
   ]
  },
  {
   "cell_type": "code",
   "execution_count": 10,
   "metadata": {},
   "outputs": [
    {
     "data": {
      "text/html": [
       "<div>\n",
       "<style scoped>\n",
       "    .dataframe tbody tr th:only-of-type {\n",
       "        vertical-align: middle;\n",
       "    }\n",
       "\n",
       "    .dataframe tbody tr th {\n",
       "        vertical-align: top;\n",
       "    }\n",
       "\n",
       "    .dataframe thead th {\n",
       "        text-align: right;\n",
       "    }\n",
       "</style>\n",
       "<table border=\"1\" class=\"dataframe\">\n",
       "  <thead>\n",
       "    <tr style=\"text-align: right;\">\n",
       "      <th></th>\n",
       "      <th>my_string</th>\n",
       "      <th>my_int64</th>\n",
       "      <th>my_float64</th>\n",
       "      <th>my_bool1</th>\n",
       "      <th>my_bool2</th>\n",
       "      <th>my_dates</th>\n",
       "    </tr>\n",
       "  </thead>\n",
       "  <tbody>\n",
       "    <tr>\n",
       "      <th>0</th>\n",
       "      <td>a</td>\n",
       "      <td>1</td>\n",
       "      <td>4.0</td>\n",
       "      <td>True</td>\n",
       "      <td>False</td>\n",
       "      <td>2019-06-01 16:44:52.662516</td>\n",
       "    </tr>\n",
       "    <tr>\n",
       "      <th>1</th>\n",
       "      <td>b</td>\n",
       "      <td>2</td>\n",
       "      <td>5.0</td>\n",
       "      <td>False</td>\n",
       "      <td>True</td>\n",
       "      <td>2019-06-02 16:44:52.662516</td>\n",
       "    </tr>\n",
       "    <tr>\n",
       "      <th>2</th>\n",
       "      <td>c</td>\n",
       "      <td>3</td>\n",
       "      <td>6.0</td>\n",
       "      <td>True</td>\n",
       "      <td>False</td>\n",
       "      <td>2019-06-03 16:44:52.662516</td>\n",
       "    </tr>\n",
       "  </tbody>\n",
       "</table>\n",
       "</div>"
      ],
      "text/plain": [
       "  my_string  my_int64  my_float64  my_bool1  my_bool2  \\\n",
       "0         a         1         4.0      True     False   \n",
       "1         b         2         5.0     False      True   \n",
       "2         c         3         6.0      True     False   \n",
       "\n",
       "                    my_dates  \n",
       "0 2019-06-01 16:44:52.662516  \n",
       "1 2019-06-02 16:44:52.662516  \n",
       "2 2019-06-03 16:44:52.662516  "
      ]
     },
     "execution_count": 10,
     "metadata": {},
     "output_type": "execute_result"
    }
   ],
   "source": [
    "sample_df"
   ]
  },
  {
   "cell_type": "code",
   "execution_count": 11,
   "metadata": {},
   "outputs": [
    {
     "name": "stderr",
     "output_type": "stream",
     "text": [
      "1it [00:04,  4.91s/it]\n"
     ]
    }
   ],
   "source": [
    "pandas_gbq.to_gbq(\n",
    "    sample_df, \n",
    "    'sql_lessons.x_stg_create_from_dataframe', \n",
    "    if_exists  = 'replace'    # options are: 'fail', 'replace', 'append'    \n",
    ")"
   ]
  }
 ],
 "metadata": {
  "kernelspec": {
   "display_name": "Python (springboard)",
   "language": "python",
   "name": "springboard"
  },
  "language_info": {
   "codemirror_mode": {
    "name": "ipython",
    "version": 3
   },
   "file_extension": ".py",
   "mimetype": "text/x-python",
   "name": "python",
   "nbconvert_exporter": "python",
   "pygments_lexer": "ipython3",
   "version": "3.6.7"
  }
 },
 "nbformat": 4,
 "nbformat_minor": 2
}
